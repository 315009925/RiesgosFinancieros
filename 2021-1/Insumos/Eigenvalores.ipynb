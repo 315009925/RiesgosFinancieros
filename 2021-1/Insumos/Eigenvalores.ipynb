{
  "nbformat": 4,
  "nbformat_minor": 0,
  "metadata": {
    "colab": {
      "name": "Eigenvalores.ipynb",
      "provenance": [],
      "authorship_tag": "ABX9TyOSShdEEZPU4hf+f592IdV5",
      "include_colab_link": true
    },
    "kernelspec": {
      "name": "python3",
      "display_name": "Python 3"
    }
  },
  "cells": [
    {
      "cell_type": "markdown",
      "metadata": {
        "id": "view-in-github",
        "colab_type": "text"
      },
      "source": [
        "<a href=\"https://colab.research.google.com/github/pikey-msc/RiesgosFinancieros/blob/master/2020-2/Insumos/Eigenvalores.ipynb\" target=\"_parent\"><img src=\"https://colab.research.google.com/assets/colab-badge.svg\" alt=\"Open In Colab\"/></a>"
      ]
    },
    {
      "cell_type": "code",
      "metadata": {
        "id": "ncsJbDoKK9ZC",
        "colab_type": "code",
        "colab": {
          "base_uri": "https://localhost:8080/",
          "height": 83
        },
        "outputId": "ee2177d9-9d84-471a-cf53-0532763f8f33"
      },
      "source": [
        "%load_ext rpy2.ipython"
      ],
      "execution_count": 1,
      "outputs": [
        {
          "output_type": "stream",
          "text": [
            "/usr/local/lib/python3.6/dist-packages/rpy2/robjects/pandas2ri.py:14: FutureWarning: pandas.core.index is deprecated and will be removed in a future version.  The public classes are available in the top-level namespace.\n",
            "  from pandas.core.index import Index as PandasIndex\n",
            "/usr/local/lib/python3.6/dist-packages/rpy2/robjects/pandas2ri.py:34: UserWarning: pandas >= 1.0 is not supported.\n",
            "  warnings.warn('pandas >= 1.0 is not supported.')\n"
          ],
          "name": "stderr"
        }
      ]
    },
    {
      "cell_type": "code",
      "metadata": {
        "id": "tRrObcLRLQ73",
        "colab_type": "code",
        "colab": {
          "base_uri": "https://localhost:8080/",
          "height": 166
        },
        "outputId": "386aeb88-3127-47c2-c941-6d77cf36fab0"
      },
      "source": [
        " \n",
        " %%R\n",
        " \n",
        " M=rbind(c(1,0.340124174029569,0.767719433167145),  c(0.340124174029569,1,0.810089605753782), c(0.767719433167145,0.194157870757866,1))\n",
        "\n",
        "print(M)\n",
        " \n",
        "  G<-eigen(M)      #eigenvectores\n",
        "  g1<-G$values                  #eigenvalores\n",
        "  \n",
        "  print(g1)\n",
        "\n",
        "  print(G$vectors)\n",
        "  # g1p=g1/sum(g1)\n",
        "  \n",
        "  # g1pac=cumsum(g1p) #suma acumulada de varianza\n",
        "  \n",
        "  # k=which.max(g1pac>eta) #valor mínimo k\n"
      ],
      "execution_count": 11,
      "outputs": [
        {
          "output_type": "stream",
          "text": [
            "          [,1]      [,2]      [,3]\n",
            "[1,] 1.0000000 0.3401242 0.7677194\n",
            "[2,] 0.3401242 1.0000000 0.8100896\n",
            "[3,] 0.7677194 0.1941579 1.0000000\n",
            "[1] 2.0541028 0.6432815 0.3026157\n",
            "           [,1]        [,2]       [,3]\n",
            "[1,] -0.5873597  0.05533244 -0.4766529\n",
            "[2,] -0.6037393 -0.92215802 -0.5572849\n",
            "[3,] -0.5389874  0.38283534  0.6798790\n"
          ],
          "name": "stdout"
        }
      ]
    }
  ]
}