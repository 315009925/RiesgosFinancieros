{
  "nbformat": 4,
  "nbformat_minor": 0,
  "metadata": {
    "colab": {
      "name": "SH-SWAPS.ipynb",
      "provenance": [],
      "collapsed_sections": [],
      "toc_visible": true,
      "include_colab_link": true
    },
    "kernelspec": {
      "name": "python3",
      "display_name": "Python 3"
    },
    "accelerator": "GPU"
  },
  "cells": [
    {
      "cell_type": "markdown",
      "metadata": {
        "id": "view-in-github",
        "colab_type": "text"
      },
      "source": [
        "<a href=\"https://colab.research.google.com/github/pikey-msc/RiesgosFinancieros/blob/master/2021-1/Insumos/SWAPS.ipynb\" target=\"_parent\"><img src=\"https://colab.research.google.com/assets/colab-badge.svg\" alt=\"Open In Colab\"/></a>"
      ]
    },
    {
      "cell_type": "code",
      "metadata": {
        "id": "rAfq7pI7buTI",
        "outputId": "09eb2b65-5d8b-420f-83bc-3c5eb24905c0",
        "colab": {
          "base_uri": "https://localhost:8080/",
          "height": 136
        }
      },
      "source": [
        "%load_ext rpy2.ipython\n",
        "!rm -rf RiesgosFinancieros\n",
        "!git clone \"https://github.com/pikey-msc/RiesgosFinancieros/\"\n",
        "\n"
      ],
      "execution_count": null,
      "outputs": [
        {
          "output_type": "stream",
          "text": [
            "Cloning into 'RiesgosFinancieros'...\n",
            "remote: Enumerating objects: 85, done.\u001b[K\n",
            "remote: Counting objects: 100% (85/85), done.\u001b[K\n",
            "remote: Compressing objects: 100% (85/85), done.\u001b[K\n",
            "remote: Total 266 (delta 55), reused 0 (delta 0), pack-reused 181\u001b[K\n",
            "Receiving objects: 100% (266/266), 1.41 MiB | 13.26 MiB/s, done.\n",
            "Resolving deltas: 100% (143/143), done.\n"
          ],
          "name": "stdout"
        }
      ]
    },
    {
      "cell_type": "code",
      "metadata": {
        "id": "CQO2WUGWbAKN",
        "outputId": "0e763d63-4e27-4a16-eefd-db2d215cbb0c",
        "colab": {
          "base_uri": "https://localhost:8080/",
          "height": 901
        }
      },
      "source": [
        "%%R\n",
        "#require(quantmod)\n",
        "#require(data.table)\n",
        "install.packages(\"data.table\")\n",
        "library(data.table)\n",
        "#require(\"PerformanceAnalytics\")\n",
        "\n",
        "\n",
        "\n",
        "library(dplyr)\n"
      ],
      "execution_count": null,
      "outputs": [
        {
          "output_type": "stream",
          "text": [
            "/usr/local/lib/python3.6/dist-packages/rpy2/rinterface/__init__.py:146: RRuntimeWarning: Installing package into ‘/usr/local/lib/R/site-library’\n",
            "(as ‘lib’ is unspecified)\n",
            "\n",
            "  warnings.warn(x, RRuntimeWarning)\n",
            "/usr/local/lib/python3.6/dist-packages/rpy2/rinterface/__init__.py:146: RRuntimeWarning: trying URL 'https://cran.rstudio.com/src/contrib/data.table_1.12.8.tar.gz'\n",
            "\n",
            "  warnings.warn(x, RRuntimeWarning)\n",
            "/usr/local/lib/python3.6/dist-packages/rpy2/rinterface/__init__.py:146: RRuntimeWarning: Content type 'application/x-gzip'\n",
            "  warnings.warn(x, RRuntimeWarning)\n",
            "/usr/local/lib/python3.6/dist-packages/rpy2/rinterface/__init__.py:146: RRuntimeWarning:  length 4948391 bytes (4.7 MB)\n",
            "\n",
            "  warnings.warn(x, RRuntimeWarning)\n",
            "/usr/local/lib/python3.6/dist-packages/rpy2/rinterface/__init__.py:146: RRuntimeWarning: =\n",
            "  warnings.warn(x, RRuntimeWarning)\n",
            "/usr/local/lib/python3.6/dist-packages/rpy2/rinterface/__init__.py:146: RRuntimeWarning: \n",
            "\n",
            "  warnings.warn(x, RRuntimeWarning)\n",
            "/usr/local/lib/python3.6/dist-packages/rpy2/rinterface/__init__.py:146: RRuntimeWarning: downloaded 4.7 MB\n",
            "\n",
            "\n",
            "  warnings.warn(x, RRuntimeWarning)\n",
            "/usr/local/lib/python3.6/dist-packages/rpy2/rinterface/__init__.py:146: RRuntimeWarning: \n",
            "  warnings.warn(x, RRuntimeWarning)\n",
            "/usr/local/lib/python3.6/dist-packages/rpy2/rinterface/__init__.py:146: RRuntimeWarning: The downloaded source packages are in\n",
            "\t‘/tmp/RtmphaACp3/downloaded_packages’\n",
            "  warnings.warn(x, RRuntimeWarning)\n",
            "/usr/local/lib/python3.6/dist-packages/rpy2/rinterface/__init__.py:146: RRuntimeWarning: data.table 1.12.8 using 1 threads (see ?getDTthreads).  Latest news: r-datatable.com\n",
            "\n",
            "  warnings.warn(x, RRuntimeWarning)\n",
            "/usr/local/lib/python3.6/dist-packages/rpy2/rinterface/__init__.py:146: RRuntimeWarning: \n",
            "Attaching package: ‘dplyr’\n",
            "\n",
            "\n",
            "  warnings.warn(x, RRuntimeWarning)\n",
            "/usr/local/lib/python3.6/dist-packages/rpy2/rinterface/__init__.py:146: RRuntimeWarning: The following objects are masked from ‘package:data.table’:\n",
            "\n",
            "    between, first, last\n",
            "\n",
            "\n",
            "  warnings.warn(x, RRuntimeWarning)\n",
            "/usr/local/lib/python3.6/dist-packages/rpy2/rinterface/__init__.py:146: RRuntimeWarning: The following objects are masked from ‘package:stats’:\n",
            "\n",
            "    filter, lag\n",
            "\n",
            "\n",
            "  warnings.warn(x, RRuntimeWarning)\n",
            "/usr/local/lib/python3.6/dist-packages/rpy2/rinterface/__init__.py:146: RRuntimeWarning: The following objects are masked from ‘package:base’:\n",
            "\n",
            "    intersect, setdiff, setequal, union\n",
            "\n",
            "\n",
            "  warnings.warn(x, RRuntimeWarning)\n"
          ],
          "name": "stderr"
        }
      ]
    },
    {
      "cell_type": "code",
      "metadata": {
        "id": "Qw6AthHnXMx4"
      },
      "source": [
        "%%R\n",
        "#FUNCIÓN DE INTERPOLACIÓN ALAMBRADA\n",
        "\n",
        "talamb=function(nodos,curva,plazos) #función de interpolación de tasas por el método alamabrada\n",
        "{\n",
        "  n=max(ncol(plazos),1)\n",
        "  m=max(ncol(nodos),1)\n",
        "  TC=matrix(0,1,n)\n",
        "  TL=matrix(0,1,n)\n",
        "  TF=matrix(0,1,n)\n",
        "  for (j in 1:n)\n",
        "  {\n",
        "    i=1\n",
        "    repeat\n",
        "    {\n",
        "      if(nodos[i]<= plazos[j] && plazos[j] <=nodos[i+1])\n",
        "      {\n",
        "        TC[j]=curva[i]\n",
        "        TL[j]=curva[i+1]\n",
        "        TF[j]=((((1+TL[j]*nodos[i+1]/360)/(1+TC[j]*nodos[i]/360))^((plazos[j]-nodos[i])/(nodos[i+1]-nodos[i]))*(1+TC[j]*nodos[i]/360))-1)*360/plazos[j]\n",
        "        break\n",
        "      }\n",
        "      else if (plazos[j]<nodos[1])\n",
        "      {\n",
        "        TC[j]=curva[1]\n",
        "        TL[j]=curva[1]\n",
        "        TF[j]=curva[1]\n",
        "        break\n",
        "      }\n",
        "      else if (plazos[j]>nodos[m])\n",
        "      {\n",
        "        TC[j]=curva[m]\n",
        "        TL[j]=curva[m]\n",
        "        TF[j]=curva[m]\n",
        "        break\n",
        "      }\n",
        "      else\n",
        "      {i=i+1}\n",
        "    }\n",
        "  }\n",
        "  as.matrix(t(as.numeric(rbind(TF))))\n",
        "}\n",
        "\n"
      ],
      "execution_count": null,
      "outputs": []
    },
    {
      "cell_type": "markdown",
      "metadata": {
        "id": "hdBgOc9db2vM"
      },
      "source": [
        "# Definición de parámetros para valorar:\n",
        "SWAPS\n"
      ]
    },
    {
      "cell_type": "markdown",
      "metadata": {
        "id": "bZvhy8zdccGi"
      },
      "source": [
        "Cargamos parámetros para valoración:"
      ]
    },
    {
      "cell_type": "code",
      "metadata": {
        "id": "9xQDSuPQRWMH"
      },
      "source": [
        "%%R\n",
        "fval=as.Date(\"20180628\",format=\"%Y%m%d\") #Fecha de valoración\n",
        "itpl=0 #0 lineal 1 interpolación alambrada\n",
        "\n",
        "#SWAP\n",
        "btasadesc_sw=\"RiesgosFinancieros/2020-2/Insumos/tasa_TIIE_SW_OP.txt\"\n",
        "btasacupvar_sw=\"RiesgosFinancieros/2020-2/Insumos/tasa_DIRS_SW_OP.txt\"\n",
        "tasafija_sw=cbind(0.079,0.075) #se establece la tasa fija a pagar para cada swap\n",
        "plazos_sw=cbind(588,360) #se establece el número de días que vivirá el swap\n",
        "plazocupon_sw=cbind(28,28) #se establece el número de días que se pagará cada cupón\n",
        "contratos_sw=cbind(-1600,1000) #se establece el número de contratos_sw de cada swap\n",
        "nominal_sw=cbind(1,1) #se establece el nominal_sw de cada swap\n",
        "por_sw=cbind(0,0) #se establece 0 si se paga tasa fija y 1 si se paga tasa variable\n",
        "\n"
      ],
      "execution_count": null,
      "outputs": []
    },
    {
      "cell_type": "markdown",
      "metadata": {
        "id": "wYq9vgjOcix0"
      },
      "source": [
        "# Carga de datos"
      ]
    },
    {
      "cell_type": "code",
      "metadata": {
        "id": "zP3dhNYMRWMP"
      },
      "source": [
        "%%R\n",
        "\n",
        "  \n",
        "  #CARGA DE DATOS PARA SWAP\n",
        "  data1<-read.table(btasadesc_sw)\n",
        "  n1<-nrow(data1)\n",
        "  m1_orig_sw=ncol(data1)\n",
        "  X1_orig_sw=data.table(mutate(data1[2:n1,1:m1_orig_sw],Date=as.Date(V1,format=\"%Y%m%d\")))\n",
        "  X1_orig_sw=X1_orig_sw%>%select(-V1)\n",
        "  nodos1_sw=data.frame(data1[1,2:m1_orig_sw])\n",
        "  \n",
        "  data2<-read.table(btasacupvar_sw)\n",
        "  n2<-nrow(data2)\n",
        "  m2_orig_sw=ncol(data2)\n",
        "  X2_orig_sw=data.table(mutate(data2[2:n1,1:m1_orig_sw],Date=as.Date(V1,format=\"%Y%m%d\")))\n",
        "  X2_orig_sw=X2_orig_sw%>%select(-V1)\n",
        "  nodos2_sw=data.frame(data2[1,2:m2_orig_sw])\n",
        "  \n"
      ],
      "execution_count": null,
      "outputs": []
    },
    {
      "cell_type": "markdown",
      "metadata": {
        "id": "re1W63Xxcqk6"
      },
      "source": [
        "# Integración de Insumos"
      ]
    },
    {
      "cell_type": "markdown",
      "metadata": {
        "id": "dFkiz2PAcuD7"
      },
      "source": [
        "Aseguramiento de que todos los factores de riesgo estén alineados en sus fechas, nos quedamos con la intersección. Posteriormente, filtramos cada histórico factor de riesgo hacia esta intersección de todos."
      ]
    },
    {
      "cell_type": "code",
      "metadata": {
        "id": "TfZnjpRrRWMW",
        "outputId": "797cf140-2fe4-4dd1-f356-9e26e8c8fd83",
        "colab": {
          "base_uri": "https://localhost:8080/",
          "height": 221
        }
      },
      "source": [
        "%%R\n",
        "#INTERSECCIÓN DE FECHAS DE TODOS LOS INSUMOS    \n",
        "  \n",
        "#head(x_orig_gov)  \n",
        "sw_dt=data.table(Date=as.Date(X1_orig_sw[X2_orig_sw,on=.(Date),nomatch=0]$Date)) #Fechas acciones, equity, guber, st (bonde), libor, fwd, spot, equity or index, swap cupón\n",
        "print(sw_dt)"
      ],
      "execution_count": null,
      "outputs": [
        {
          "output_type": "display_data",
          "data": {
            "text/plain": [
              "           Date\n",
              "  1: 2018-06-29\n",
              "  2: 2018-06-28\n",
              "  3: 2018-06-27\n",
              "  4: 2018-06-26\n",
              "  5: 2018-06-25\n",
              " ---           \n",
              "251: 2017-07-14\n",
              "252: 2017-07-13\n",
              "253: 2017-07-12\n",
              "254: 2017-07-11\n",
              "255: 2017-07-10\n"
            ]
          },
          "metadata": {
            "tags": []
          }
        }
      ]
    },
    {
      "cell_type": "code",
      "metadata": {
        "id": "kMNQXZpl0x7Y"
      },
      "source": [
        "%%R\n",
        "n=nrow(sw_dt) #Historia de todos\n",
        "\n",
        "\n",
        "\n",
        "#historia de swaps\n",
        "X1_orig_sw=sw_dt[X1_orig_sw,on=.(Date),nomatch=0][order(-Date)]\n",
        "X1_orig_sw=X1_orig_sw%>%select(-Date)/100\n",
        "X2_orig_sw=sw_dt[X2_orig_sw,on=.(Date),nomatch=0][order(-Date)]\n",
        "X2_orig_sw=X2_orig_sw%>%select(-Date)/100\n",
        "\n"
      ],
      "execution_count": null,
      "outputs": []
    },
    {
      "cell_type": "markdown",
      "metadata": {
        "id": "EbJH8k5GxWrr"
      },
      "source": [
        "## SWAPS"
      ]
    },
    {
      "cell_type": "code",
      "metadata": {
        "id": "53jKdJPVxY_g"
      },
      "source": [
        "%%R\n",
        "##SWAP TASA FIJA VS TASA VARIABLE CÁLCULO\n",
        "\n",
        "##Interpolamos\n",
        "\n",
        "nodosvp=nodos1_sw\n",
        "nodostc=nodos2_sw\n",
        "curvavp=as.matrix(X1_orig_sw)\n",
        "curvatc=X2_orig_sw\n",
        "n1=nrow(curvavp)\n",
        "n2=nrow(curvatc)\n",
        "\n",
        "\n",
        "m=max(ncol(plazos_sw),1) #número de contratos_sw swap a valorar\n",
        "N=matrix(0,1,m) #es un vector de m valores donde se cargarán los m número de cupones a pagar para cada contrato\n",
        "for (j in (1:m))\n",
        "{\n",
        "  N[j]=as.integer(plazos_sw[j]/plazocupon_sw[j])+1 #número de cupones a pagar\n",
        "}\n",
        "VTplazos_sw=matrix(0,1,sum(N)) #vector de todos los plazos_sw de todos los contratos_sw\n",
        "contratos_swT=matrix(0,1,sum(N)) #vector de todos los contratos_sw de todos los flujos de todos los contratos_sw\n",
        "nominal_swT=matrix(0,1,sum(N)) #vector de todos los nominal_swes de todos los flujos de todos los contratos_sw\n",
        "por_swT=matrix(0,1,sum(N)) #vector de todos los dummy si paga o recibe de todos los flujos de todos los contratos_sw\n",
        "plazocupon_swT=matrix(0,1,sum(N)) #vector de todos los plazos_swcupon de todos los flujos de todos los contratos_sw\n",
        "tasafija_swT=matrix(0,1,sum(N)) #vector de tasas fijas de todos los flujos de todos los contratos_sw\n",
        "VTplazos_swc=matrix(0,1,sum(N)) #vector de todos los plazos_sw cortos de todos los contratos_sw\n",
        "\n",
        "\n",
        "plazini=plazos_sw-plazocupon_sw*(N-1) #vector de plazos_sw iniciales\n",
        "\n",
        "for (j in (1:m))\n",
        "{\n",
        "  if (j==1)\n",
        "  {\n",
        "    VTplazos_sw[,1:sum(N[1:j])]=seq(plazini[j],plazos_sw[j], by=plazocupon_sw[j])\n",
        "    VTplazos_swc[,1:sum(N[1:j])]=c(0,VTplazos_sw[,1:(sum(N[1:j])-1)])\n",
        "    contratos_swT[,1:sum(N[1:j])]=seq(contratos_sw[j],contratos_sw[j])\n",
        "    nominal_swT[,1:sum(N[1:j])]=seq(nominal_sw[j],nominal_sw[j])\n",
        "    por_swT[,1:sum(N[1:j])]=seq(por_sw[j],por_sw[j])\n",
        "    plazocupon_swT[,1:sum(N[1:j])]=seq(plazocupon_sw[j],plazocupon_sw[j])\n",
        "    tasafija_swT[,1:sum(N[1:j])]=seq(tasafija_sw[j],tasafija_sw[j])\n",
        "  }\n",
        "  else\n",
        "  {\n",
        "    VTplazos_sw[,(sum(N[1:j-1])+1):sum(N[1:j])]=seq(plazini[j],plazos_sw[j], by=plazocupon_sw[j])\n",
        "    VTplazos_swc[,(sum(N[1:j-1])+1):sum(N[1:j])]=c(0,VTplazos_sw[,(sum(N[1:j-1])+1):(sum(N[1:j])-1)])\n",
        "    contratos_swT[,(sum(N[1:j-1])+1):sum(N[1:j])]=seq(contratos_sw[j],contratos_sw[j])\t\t\t\t\t\n",
        "    nominal_swT[,(sum(N[1:j-1])+1):sum(N[1:j])]=seq(nominal_sw[j],nominal_sw[j])\n",
        "    por_swT[,(sum(N[1:j-1])+1):sum(N[1:j])]=seq(por_sw[j],por_sw[j])\n",
        "    plazocupon_swT[,(sum(N[1:j-1])+1):sum(N[1:j])]=seq(plazocupon_sw[j],plazocupon_sw[j])\n",
        "    tasafija_swT[,(sum(N[1:j-1])+1):sum(N[1:j])]=seq(tasafija_sw[j],tasafija_sw[j])\n",
        "  }\n",
        "}\n",
        "\n",
        "\n",
        "Xvp=matrix(0,n,ncol(VTplazos_sw))\n",
        "Xtc=matrix(0,n,ncol(VTplazos_sw))\n",
        "Xtcc=matrix(0,n,ncol(VTplazos_sw))\n",
        "XtfwdT=matrix(0,n,ncol(VTplazos_sw))\n",
        "\n",
        "for (i in (1:n))\n",
        "{\n",
        "  Xvp[i,]=if(itpl==0){approx(nodosvp,curvavp[i,],VTplazos_sw,rule=2)$y}else{talamb(nodosvp,curvavp[i,],VTplazos_sw)}\n",
        "  Xtc[i,]=if(itpl==0){approx(nodostc,curvatc[i,],VTplazos_sw,rule=2)$y}else{talamb(nodostc,curvatc[i,],VTplazos_sw)}\n",
        "  Xtcc[i,]=if(itpl==0){approx(nodostc,curvatc[i,],VTplazos_swc, rule=2)$y}else{talamb(nodostc,curvatc[i,],VTplazos_swc)}\n",
        "  \n",
        "  XtfwdT[i,]=((1+Xtc[i,]*VTplazos_sw/360)/(1+Xtcc[i,]*VTplazos_swc/360)-1)*360/plazocupon_swT \n",
        "  for (j in (1:ncol(VTplazos_sw)))\n",
        "  {\n",
        "    if (VTplazos_sw[j]<= plazocupon_swT[j])\n",
        "    {\n",
        "      XtfwdT[i,j]=Xtc[i,j]\n",
        "    }\n",
        "    else\n",
        "    {\n",
        "      j=sum(N[1:j])\n",
        "    }\n",
        "  }\n",
        "}\n",
        "\n",
        "X_sw=cbind(XtfwdT,Xvp)\n",
        "\n",
        "swap=function(por_swT, contratos_swT, nominal_swT, XtfwdT, tasafija_swT, plazocupon_swT, VTplazos_sw, Xvp, N)\n",
        "{\n",
        "  V0=matrix(0,1,ncol(N))\n",
        "  V0f=(((contratos_swT*(XtfwdT-tasafija_swT)*(plazocupon_swT/360)))/(1+Xvp*VTplazos_sw/360))*nominal_swT*(-1)^por_swT\n",
        "  for (j in (1:ncol(N)))\n",
        "  {\n",
        "    if(j==1)\n",
        "    {\n",
        "      V0[j]=sum(V0f[j:N[j]])\n",
        "    }\n",
        "    else\n",
        "    {\n",
        "      V0[j]=sum(V0f[(sum(N[1:j-1])+1):(sum(N[1:j]))])\n",
        "    }\n",
        "  }\n",
        "  V0\n",
        "}\n",
        "\n",
        "V0_sw=swap(por_swT, contratos_swT, nominal_swT, XtfwdT[1,], tasafija_swT, plazocupon_swT, VTplazos_sw, Xvp[1,], N)"
      ],
      "execution_count": null,
      "outputs": []
    }
  ]
}