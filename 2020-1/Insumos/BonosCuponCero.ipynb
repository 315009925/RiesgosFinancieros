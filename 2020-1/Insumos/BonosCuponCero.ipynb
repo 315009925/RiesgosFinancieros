{
  "nbformat": 4,
  "nbformat_minor": 0,
  "metadata": {
    "colab": {
      "name": "BonosCuponCero.ipynb",
      "version": "0.3.2",
      "provenance": []
    },
    "kernelspec": {
      "name": "python3",
      "display_name": "Python 3"
    }
  },
  "cells": [
    {
      "cell_type": "code",
      "metadata": {
        "id": "_1ELWlZJcKIx",
        "colab_type": "code",
        "colab": {}
      },
      "source": [
        "%load_ext rpy2.ipython\n"
      ],
      "execution_count": 0,
      "outputs": []
    },
    {
      "cell_type": "code",
      "metadata": {
        "id": "sSzzFy8_cm6_",
        "colab_type": "code",
        "colab": {
          "base_uri": "https://localhost:8080/",
          "height": 118
        },
        "outputId": "5c6b6a2d-f027-4ec3-c2e9-0722b541baa5"
      },
      "source": [
        " !rm -rf RiesgosFinancieros\n",
        " !git clone \"https://github.com/pikey-msc/RiesgosFinancieros/\""
      ],
      "execution_count": 2,
      "outputs": [
        {
          "output_type": "stream",
          "text": [
            "Cloning into 'RiesgosFinancieros'...\n",
            "remote: Enumerating objects: 32, done.\u001b[K\n",
            "remote: Counting objects: 100% (32/32), done.\u001b[K\n",
            "remote: Compressing objects: 100% (30/30), done.\u001b[K\n",
            "remote: Total 32 (delta 4), reused 0 (delta 0), pack-reused 0\n",
            "Unpacking objects: 100% (32/32), done.\n"
          ],
          "name": "stdout"
        }
      ]
    },
    {
      "cell_type": "code",
      "metadata": {
        "id": "rJOfrWDAdD7X",
        "colab_type": "code",
        "colab": {
          "base_uri": "https://localhost:8080/",
          "height": 84
        },
        "outputId": "f727260a-fa6f-4873-b6ab-32d3cf190bd4"
      },
      "source": [
        "%%R\n",
        "\n",
        "base=\"tasa_guber.txt\"\n",
        "direc=\"RiesgosFinancieros/2020-1/Insumos/\"\n",
        "plazos=cbind( 5,\t18,\t72,\t115,\t153,\t245,\t850,\t1500,\t3000,\t6400,\t7500,\t9958)\n",
        "contratos=cbind(22000, -29000, 10000, -46000, 44000, -26000,-30000,7000,-18000,-31000,23000,-23000)\n",
        "nominal=10 #CETE\n",
        "#setwd(direc)\t\n",
        "data<-read.table(\"RiesgosFinancieros/2020-1/Insumos/tasa_guber.txt\")\n",
        "n<-nrow(data)\n",
        "m_orig=ncol(data)\n",
        "x_orig=data.frame(data[2:n,2:m_orig])\n",
        "nodos=data.frame(data[1,2:m_orig])\n"
      ],
      "execution_count": 15,
      "outputs": [
        {
          "output_type": "display_data",
          "data": {
            "text/plain": [
              "  V2 V3 V4 V5  V6  V7  V8  V9  V10  V11  V12  V13  V14  V15  V16  V17  V18  V19\n",
              "1  1  7 30 90 180 270 360 720 1080 1440 1800 2160 2520 2880 3240 3600 5400 7200\n",
              "   V20   V21\n",
              "1 9000 10800\n"
            ]
          },
          "metadata": {
            "tags": []
          }
        }
      ]
    },
    {
      "cell_type": "markdown",
      "metadata": {
        "id": "thi_wPh8cOEp",
        "colab_type": "text"
      },
      "source": [
        ""
      ]
    }
  ]
}