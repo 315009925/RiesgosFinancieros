{
  "nbformat": 4,
  "nbformat_minor": 0,
  "metadata": {
    "kernelspec": {
      "display_name": "R",
      "language": "R",
      "name": "ir"
    },
    "language_info": {
      "codemirror_mode": "r",
      "file_extension": ".r",
      "mimetype": "text/x-r-source",
      "name": "R",
      "pygments_lexer": "r",
      "version": "3.3.1"
    },
    "colab": {
      "name": "MertonKMV_R.ipynb",
      "provenance": [],
      "collapsed_sections": [],
      "include_colab_link": true
    },
    "accelerator": "GPU"
  },
  "cells": [
    {
      "cell_type": "markdown",
      "metadata": {
        "id": "view-in-github",
        "colab_type": "text"
      },
      "source": [
        "<a href=\"https://colab.research.google.com/github/pikey-msc/RiesgosFinancieros/blob/master/2020-1/Insumos/MertonKMV_R.ipynb\" target=\"_parent\"><img src=\"https://colab.research.google.com/assets/colab-badge.svg\" alt=\"Open In Colab\"/></a>"
      ]
    },
    {
      "cell_type": "markdown",
      "metadata": {
        "id": "dPEF1ujr7wvM",
        "colab_type": "text"
      },
      "source": [
        "Paso de carga de librerías en R de todas las que se utilizarán"
      ]
    },
    {
      "cell_type": "code",
      "metadata": {
        "id": "57AsDOlcRWL9",
        "colab_type": "code",
        "outputId": "3db6b595-4f8a-435c-a703-8c200f7b3493",
        "colab": {
          "base_uri": "https://localhost:8080/",
          "height": 795
        }
      },
      "source": [
        "install.packages(\"quantmod\")\n",
        "install.packages(\"curl\")\n",
        "install.packages(\"data.table\")\n",
        "install.packages(\"RCurl\")\n",
        "install.packages(\"bitops\")\n",
        "install.packages(\"setInternet2\")\n",
        "install.packages(\"rootSolve\")\n",
        "library(rootSolve)\n",
        "library(quantmod)\n",
        "library(RCurl)\n",
        "library(data.table)\n",
        "require(jsonlite) #para el getQuotes\n"
      ],
      "execution_count": 1,
      "outputs": [
        {
          "output_type": "stream",
          "text": [
            "Installing package into ‘/usr/local/lib/R/site-library’\n",
            "(as ‘lib’ is unspecified)\n",
            "also installing the dependencies ‘xts’, ‘zoo’, ‘TTR’\n",
            "\n",
            "Installing package into ‘/usr/local/lib/R/site-library’\n",
            "(as ‘lib’ is unspecified)\n",
            "Installing package into ‘/usr/local/lib/R/site-library’\n",
            "(as ‘lib’ is unspecified)\n",
            "Installing package into ‘/usr/local/lib/R/site-library’\n",
            "(as ‘lib’ is unspecified)\n",
            "also installing the dependency ‘bitops’\n",
            "\n",
            "Installing package into ‘/usr/local/lib/R/site-library’\n",
            "(as ‘lib’ is unspecified)\n",
            "Installing package into ‘/usr/local/lib/R/site-library’\n",
            "(as ‘lib’ is unspecified)\n",
            "Warning message:\n",
            "“package ‘setInternet2’ is not available (for R version 3.6.1)”Installing package into ‘/usr/local/lib/R/site-library’\n",
            "(as ‘lib’ is unspecified)\n",
            "Loading required package: xts\n",
            "Loading required package: zoo\n",
            "\n",
            "Attaching package: ‘zoo’\n",
            "\n",
            "The following objects are masked from ‘package:base’:\n",
            "\n",
            "    as.Date, as.Date.numeric\n",
            "\n",
            "Registered S3 method overwritten by 'xts':\n",
            "  method     from\n",
            "  as.zoo.xts zoo \n",
            "Loading required package: TTR\n",
            "Registered S3 method overwritten by 'quantmod':\n",
            "  method            from\n",
            "  as.zoo.data.frame zoo \n",
            "Version 0.4-0 included new data defaults. See ?getSymbols.\n",
            "Loading required package: bitops\n",
            "\n",
            "Attaching package: ‘data.table’\n",
            "\n",
            "The following objects are masked from ‘package:xts’:\n",
            "\n",
            "    first, last\n",
            "\n",
            "Loading required package: jsonlite\n"
          ],
          "name": "stderr"
        }
      ]
    },
    {
      "cell_type": "code",
      "metadata": {
        "id": "hmhB2TtvLFBw",
        "colab_type": "code",
        "outputId": "bb9322dc-5f12-44f3-e86f-41057ffe9ccf",
        "colab": {
          "base_uri": "https://localhost:8080/",
          "height": 227
        }
      },
      "source": [
        "Symbols<-c  (\"WALMEX.MX\")#tienen que ir en orden alfabético\n",
        "length(Symbols)\n",
        "\n",
        "\n",
        "start_date=Sys.Date()-3660 #fecha inicial\n",
        "\n",
        "#Creación del objeto para guardar los datos\n",
        "dataEnv<-new.env()\n",
        "\n",
        "#obtener los datos\n",
        "getSymbols.yahoo(Symbols,env=dataEnv,from=start_date)\n",
        "\n",
        "\n",
        "#limpiarlos, alinearnos y quedarnos con el precio de cierre \n",
        "\n",
        "\n",
        "\n",
        "#muestra de datos\n",
        "#Nos quedamos con los precios\n",
        "stock_prices = na.omit(dataEnv$`WALMEX.MX`)\n",
        "stock_prices=stock_prices[,4] #Close\n",
        "tail(stock_prices[,])\n"
      ],
      "execution_count": 4,
      "outputs": [
        {
          "output_type": "display_data",
          "data": {
            "text/plain": [
              "[1] 1"
            ],
            "text/latex": "1",
            "text/markdown": "1",
            "text/html": [
              "1"
            ]
          },
          "metadata": {
            "tags": []
          }
        },
        {
          "output_type": "stream",
          "text": [
            "Warning message:\n",
            "“WALMEX.MX contains missing values. Some functions will not work if objects contain missing values in the middle of the series. Consider using na.omit(), na.approx(), na.fill(), etc to remove or replace them.”"
          ],
          "name": "stderr"
        },
        {
          "output_type": "display_data",
          "data": {
            "text/plain": [
              "[1] \"WALMEX.MX\""
            ],
            "text/latex": "'WALMEX.MX'",
            "text/markdown": "'WALMEX.MX'",
            "text/html": [
              "'WALMEX.MX'"
            ]
          },
          "metadata": {
            "tags": []
          }
        },
        {
          "output_type": "display_data",
          "data": {
            "text/plain": [
              "           WALMEX.MX.Close\n",
              "2019-11-14           55.20\n",
              "2019-11-15           54.67\n",
              "2019-11-19           54.93\n",
              "2019-11-20           54.54\n",
              "2019-11-21           53.65\n",
              "2019-11-22           55.03"
            ]
          },
          "metadata": {
            "tags": []
          }
        }
      ]
    },
    {
      "cell_type": "markdown",
      "metadata": {
        "id": "IjUGLFfeA3Ty",
        "colab_type": "text"
      },
      "source": [
        "Se deja el código de \"webscrapping\" hay que arreglarlo"
      ]
    },
    {
      "cell_type": "code",
      "metadata": {
        "id": "hQ_Vf4r2LMD-",
        "colab_type": "code",
        "outputId": "c583bba9-d5e8-4d4d-eded-2c6610f0d04f",
        "colab": {
          "base_uri": "https://localhost:8080/",
          "height": 50
        }
      },
      "source": [
        "\n",
        "#PARA CARGAR EL NÚMERO DE ACCIONES EN VENTA\n",
        "\n",
        "getQuote <- function(ticks) {\n",
        "  qRoot <- \"https://query1.finance.yahoo.com/v7/finance/quote?fields=symbol,longName,regularMarketPrice,regularMarketChange,regularMarketTime,sharesOutstanding,bookValue&formatted=false&symbols=\"\n",
        "  z <- fromJSON(paste(qRoot, paste(ticks, collapse=\",\"), sep=\"\"))\n",
        "  z <- z$quoteResponse$result[,c(\"symbol\", \"regularMarketTime\", \"regularMarketPrice\", \"regularMarketChange\", \"longName\", \"sharesOutstanding\", \"bookValue\" )]\n",
        "  row.names(z) <- z$symbol\n",
        "  z$symbol <- NULL\n",
        "  names(z) <- c(\"Time\", \"Price\", \"Change\", \"Name\", \"Numeroacciones\", \"valorlibros\")\n",
        "  z$Time <- as.POSIXct(z$Time, origin = '1970-01-01 00:00:00')\n",
        "  return(z)\n",
        "}\n",
        "\n",
        "\n",
        "ticks=Symbols\n",
        "\n",
        "stqt=getQuote(Symbols)\n",
        "\n",
        "\n",
        "#PARA CARGAR LOS ESTADOS FINANCIEROS Y FLUJOS DE EFECTIVO\n",
        "scrapy_stocks <- function(stock){\n",
        "  if (\"rvest\" %in% installed.packages()) {\n",
        "    library(rvest)\n",
        "  }else{\n",
        "    install.packages(\"rvest\")\n",
        "    library(rvest)\n",
        "  }\n",
        "  for (i in 1:length(stock)) {\n",
        "    tryCatch(\n",
        "      {\n",
        "        url <- \"https://finance.yahoo.com/quote/\"\n",
        "        url <- paste0(url,stock[i],\"/financials?p=\",stock[i])\n",
        "        wahis.session <- html_session(url)                                \n",
        "        p <-    wahis.session %>%\n",
        "          html_nodes(xpath = '//*[@id=\"Col1-1-Financials-Proxy\"]/section/div[3]/table')%>%\n",
        "          html_table(fill = TRUE)\n",
        "        IS <- p[[1]]\n",
        "        colnames(IS) <- paste(IS[1,])\n",
        "        IS <- IS[-c(1,5,12,20,25),]\n",
        "        names_row <- paste(IS[,1])\n",
        "        IS <- IS[,-1]\n",
        "        IS <- apply(IS,2,function(x){gsub(\",\",\"\",x)})\n",
        "        IS <- as.data.frame(apply(IS,2,as.numeric))\n",
        "        rownames(IS) <- paste(names_row)\n",
        "        temp1 <- IS\n",
        "        url <- \"https://finance.yahoo.com/quote/\"\n",
        "        url <- paste0(url,stock[i],\"/balance-sheet?p=\",stock[i])\n",
        "        wahis.session <- html_session(url)\n",
        "        p <-    wahis.session %>%\n",
        "          html_nodes(xpath = '//*[@id=\"Col1-1-Financials-Proxy\"]/section/div[3]/table')%>%\n",
        "          html_table(fill = TRUE)\n",
        "        BS <- p[[1]]\n",
        "        colnames(BS) <- BS[1,]\n",
        "        BS <- BS[-c(1,2,17,28),]\n",
        "        names_row <- BS[,1]\n",
        "        BS <- BS[,-1] \n",
        "        BS <- apply(BS,2,function(x){gsub(\",\",\"\",x)})\n",
        "        BS <- as.data.frame(apply(BS,2,as.numeric))\n",
        "        rownames(BS) <- paste(names_row)\n",
        "        temp2 <- BS\n",
        "        url <- \"https://finance.yahoo.com/quote/\"\n",
        "        url <- paste0(url,stock[i],\"/cash-flow?p=\",stock[i])\n",
        "        wahis.session <- html_session(url)\n",
        "        p <-    wahis.session %>%\n",
        "          html_nodes(xpath = '//*[@id=\"Col1-1-Financials-Proxy\"]/section/div[3]/table')%>%\n",
        "          html_table(fill = TRUE)\n",
        "        CF <- p[[1]]\n",
        "        colnames(CF) <- CF[1,]\n",
        "        CF <- CF[-c(1,3,11,16),]\n",
        "        names_row <- CF[,1]\n",
        "        CF <- CF[,-1] \n",
        "        CF <- apply(CF,2,function(x){gsub(\",\",\"\",x)})\n",
        "        CF <- as.data.frame(apply(CF,2,as.numeric))\n",
        "        rownames(CF) <- paste(names_row)\n",
        "        temp3 <- CF\n",
        "        assign(paste0(stock[i],'.f'),value = list(IS = temp1,BS = temp2,CF = temp3),envir = parent.frame())\n",
        "        \n",
        "      },\n",
        "      error = function(cond){\n",
        "        message(stock[i], \"Give error \",cond)\n",
        "      }\n",
        "    )\n",
        "  }\n",
        "}\n",
        "\n",
        "#stock=Symbols\n",
        "scrapy_stocks(Symbols) \n",
        "AAPL.f$BS\n",
        "AAPL.f$IS\n",
        "AAPL.f$CF\n",
        "\n"
      ],
      "execution_count": 0,
      "outputs": [
        {
          "output_type": "stream",
          "text": [
            "AAPLGive error Error in p[[1]]: subscript out of bounds\n",
            "\n"
          ],
          "name": "stderr"
        }
      ]
    },
    {
      "cell_type": "code",
      "metadata": {
        "id": "65qkZOkVjBR1",
        "colab_type": "code",
        "colab": {
          "base_uri": "https://localhost:8080/",
          "height": 233
        },
        "outputId": "9bdc88a0-3fdf-4652-b4bc-f11a380f9579"
      },
      "source": [
        "\n",
        "#K_0=BS[33,1]/1000 #Total Stockholder Equity VALOR DE LA EMPRESA\n",
        "#en millones https://finance.yahoo.com/quote/WALMEX.MX/balance-sheet?p=WALMEX.MX\n",
        "#Total stockholders' equity\n",
        "#En millones\n",
        "K_0=164914074*1000/1000000\n",
        "#nrow(BS)\n",
        "#D_0=BS[24,1]/1000 #Total Liabilities DEUDA ACTUAL\n",
        "#En millones\n",
        "D_0=141614759\t*1000/1000000\n",
        "\n",
        "#obtenido de https://finance.yahoo.com/quote/WALMEX.MX/key-statistics?p=WALMEX.MX \n",
        "#Shares Outstanding (Sexpresa en miles de millones en la página)\n",
        "#En millones\n",
        "Numeroacciones=17.46*1000000000/1000000\n",
        "\n",
        "#dt=names(BS)[1] #ÚLTIMA FECHA DISPONIBLE\n",
        "dt=\"12/31/2018\"\n",
        "dt=strptime(dt, \"%m/%d/%Y\")\n",
        "dt=format(dt, \"%Y-%m\")\n",
        "dt\n",
        "#no esta sentencia entonces mi ultima fecha fue tanto \n",
        "n=nrow(stock_prices[paste(\"/\",dt,sep=\"\")]) #NUMERO DE FILAS A ANALIZAR PARA EL ÚLTIMO DATO\n",
        "\n",
        "A_0=stock_prices[paste(\"/\",dt,sep=\"\")][n] #valores actuales\n",
        "\n",
        "#A_0=A_0*stqt$Numeroacciones/1000000 #VALOR ACTUAL DE LAS ACCIONES VALOR DE ACCIÓN POR ACCIONES DISPONIBLES\n",
        "A_0=A_0*Numeroacciones #VALOR ACTUAL DE LAS ACCIONES VALOR DE ACCIÓN POR ACCIONES DISPONIBLES\n",
        "A_0/K_0\n",
        "\n",
        "A=stock_prices[paste(\"/\",dt,sep=\"\")]  #VECTOR DE PRECIOS \n",
        "\n",
        "vol_A=sqrt(var(log(as.matrix(A[2:n])/as.matrix(A[1:(n-1)]))))*sqrt(252) #VOLATILIDAD ANUAL\n",
        "\n",
        "#Valor del CETE\n",
        "r=0.0717\n",
        "T=1\n",
        "\n",
        "A_0\n",
        "K_0\n",
        "vol_A\n",
        "D_0\n",
        "r\n",
        "T\n"
      ],
      "execution_count": 29,
      "outputs": [
        {
          "output_type": "display_data",
          "data": {
            "text/plain": [
              "[1] \"2018-12\""
            ],
            "text/latex": "'2018-12'",
            "text/markdown": "'2018-12'",
            "text/html": [
              "'2018-12'"
            ]
          },
          "metadata": {
            "tags": []
          }
        },
        {
          "output_type": "display_data",
          "data": {
            "text/plain": [
              "           WALMEX.MX.Close\n",
              "2018-12-31         5.29049"
            ]
          },
          "metadata": {
            "tags": []
          }
        },
        {
          "output_type": "display_data",
          "data": {
            "text/plain": [
              "           WALMEX.MX.Close\n",
              "2018-12-31        872476.2"
            ]
          },
          "metadata": {
            "tags": []
          }
        },
        {
          "output_type": "display_data",
          "data": {
            "text/plain": [
              "[1] 164914.1"
            ],
            "text/latex": "164914.074",
            "text/markdown": "164914.074",
            "text/html": [
              "164914.074"
            ]
          },
          "metadata": {
            "tags": []
          }
        },
        {
          "output_type": "display_data",
          "data": {
            "text/plain": [
              "                WALMEX.MX.Close\n",
              "WALMEX.MX.Close 0.2390945      "
            ],
            "text/latex": "A matrix: 1 × 1 of type dbl\n\\begin{tabular}{r|l}\n  & WALMEX.MX.Close\\\\\n\\hline\n\tWALMEX.MX.Close & 0.2390945\\\\\n\\end{tabular}\n",
            "text/markdown": "\nA matrix: 1 × 1 of type dbl\n\n| <!--/--> | WALMEX.MX.Close |\n|---|---|\n| WALMEX.MX.Close | 0.2390945 |\n\n",
            "text/html": [
              "<table>\n",
              "<caption>A matrix: 1 × 1 of type dbl</caption>\n",
              "<thead>\n",
              "\t<tr><th></th><th scope=col>WALMEX.MX.Close</th></tr>\n",
              "</thead>\n",
              "<tbody>\n",
              "\t<tr><th scope=row>WALMEX.MX.Close</th><td>0.2390945</td></tr>\n",
              "</tbody>\n",
              "</table>\n"
            ]
          },
          "metadata": {
            "tags": []
          }
        },
        {
          "output_type": "display_data",
          "data": {
            "text/plain": [
              "[1] 141614.8"
            ],
            "text/latex": "141614.759",
            "text/markdown": "141614.759",
            "text/html": [
              "141614.759"
            ]
          },
          "metadata": {
            "tags": []
          }
        },
        {
          "output_type": "display_data",
          "data": {
            "text/plain": [
              "[1] 0.0717"
            ],
            "text/latex": "0.0717",
            "text/markdown": "0.0717",
            "text/html": [
              "0.0717"
            ]
          },
          "metadata": {
            "tags": []
          }
        },
        {
          "output_type": "display_data",
          "data": {
            "text/plain": [
              "[1] 1"
            ],
            "text/latex": "1",
            "text/markdown": "1",
            "text/html": [
              "1"
            ]
          },
          "metadata": {
            "tags": []
          }
        }
      ]
    },
    {
      "cell_type": "code",
      "metadata": {
        "id": "OfIx_-_BjwhK",
        "colab_type": "code",
        "colab": {
          "base_uri": "https://localhost:8080/",
          "height": 198
        },
        "outputId": "c11fda1e-6e53-44ca-8e2b-48421fb56f16"
      },
      "source": [
        "x=c(D_0,vol_A)\n",
        "\n",
        "#Función para estimar vol_k y D\n",
        "G = function(x) \n",
        "{\n",
        "  vol_k <- x[2]\n",
        "  D <- x[1]\n",
        "  c(A_0-K_0*pnorm((log(K_0/D)+(r+0.5*vol_k^2)*T)/(vol_k*sqrt(T)))+D*exp(-r*T)*pnorm((log(K_0/D)+(r-0.5*vol_k^2)*T)/(vol_k*sqrt(T))),\n",
        "  A_0*vol_A-vol_k*K_0*pnorm((log(K_0/D)+(r+0.5*vol_k^2)*T)/(vol_k*sqrt(T))) )\n",
        "}\n",
        "\n",
        "#K_0=164370\n",
        "\n",
        "ss=multiroot(G,x,positive = TRUE) #RESOLVER EL SISTEMA.\n",
        "\n",
        "D=ss$root[1]\n",
        "vol_k=ss$root[2]\n",
        "ss$root[1]/D_0\n",
        "vol_A/ss$root[2]\n",
        "G(c(D,vol_k))\n",
        "\n",
        "#Probabilidad de incumplimiento\n",
        "PD_merton=1-pnorm((log(K_0/D)+(r+0.5*vol_k^2)*T)/(vol_k*sqrt(T)))\n",
        "PD_merton\n"
      ],
      "execution_count": 30,
      "outputs": [
        {
          "output_type": "stream",
          "text": [
            "Warning message in stode(y, times, func, parms = parms, ...):\n",
            "“steady-state not reached”"
          ],
          "name": "stderr"
        },
        {
          "output_type": "display_data",
          "data": {
            "text/plain": [
              "[1] 0"
            ],
            "text/latex": "0",
            "text/markdown": "0",
            "text/html": [
              "0"
            ]
          },
          "metadata": {
            "tags": []
          }
        },
        {
          "output_type": "display_data",
          "data": {
            "text/plain": [
              "                WALMEX.MX.Close\n",
              "WALMEX.MX.Close 0.1890184      "
            ],
            "text/latex": "A matrix: 1 × 1 of type dbl\n\\begin{tabular}{r|l}\n  & WALMEX.MX.Close\\\\\n\\hline\n\tWALMEX.MX.Close & 0.1890184\\\\\n\\end{tabular}\n",
            "text/markdown": "\nA matrix: 1 × 1 of type dbl\n\n| <!--/--> | WALMEX.MX.Close |\n|---|---|\n| WALMEX.MX.Close | 0.1890184 |\n\n",
            "text/html": [
              "<table>\n",
              "<caption>A matrix: 1 × 1 of type dbl</caption>\n",
              "<thead>\n",
              "\t<tr><th></th><th scope=col>WALMEX.MX.Close</th></tr>\n",
              "</thead>\n",
              "<tbody>\n",
              "\t<tr><th scope=row>WALMEX.MX.Close</th><td>0.1890184</td></tr>\n",
              "</tbody>\n",
              "</table>\n"
            ]
          },
          "metadata": {
            "tags": []
          }
        },
        {
          "output_type": "display_data",
          "data": {
            "text/plain": [
              "           WALMEX.MX.Close\n",
              "2018-12-31        707562.1\n",
              "2018-12-31             0.0"
            ]
          },
          "metadata": {
            "tags": []
          }
        },
        {
          "output_type": "display_data",
          "data": {
            "text/plain": [
              "[1] 0"
            ],
            "text/latex": "0",
            "text/markdown": "0",
            "text/html": [
              "0"
            ]
          },
          "metadata": {
            "tags": []
          }
        }
      ]
    },
    {
      "cell_type": "code",
      "metadata": {
        "id": "Ti2-oe_yF6Rd",
        "colab_type": "code",
        "colab": {
          "base_uri": "https://localhost:8080/",
          "height": 362
        },
        "outputId": "059d4397-bd19-490f-e043-e24c550db078"
      },
      "source": [
        "#Sólo estimar la volatilidad dada la deuda\n",
        "#Probabilidad de Incumplimiento\n",
        "\n",
        "Vk = function(x) \n",
        "{\n",
        "  vol_k <- x\n",
        "  ((vol_k/vol_A)*(K_0/A_0))-pnorm((log(K_0/D)+(r+0.5*vol_k^2)*T)/(vol_k*sqrt(T)))\n",
        "}\n",
        "\n",
        "#Definir una Deuda\n",
        "D=D_0\n",
        "x=vol_A #semilla de la vol_k\n",
        "ss=multiroot(Vk,x,positive = TRUE) #RESOLVER EL SISTEMA.\n",
        "\n",
        "vol_k=ss$root\n",
        "print(\"Ratio vol_k/vol_A\")\n",
        "ss$root[1]/vol_A\n",
        "print(\"valor Vk bajo solución\")\n",
        "Vk(vol_k)\n",
        "\n",
        "PD_merton=1-pnorm((log(K_0/D)+(r+0.5*vol_k^2)*T)/(vol_k*sqrt(T)))\n",
        "\n",
        "print(\"Deuda estimada\")\n",
        "D\n",
        "print(\"Deuda sencilla\")\n",
        "D_0\n",
        "print(\"Vol estimada\")\n",
        "vol_k\n",
        "print(\"Vol semilla\")\n",
        "vol_A\n",
        "print(\"PD Merton\")\n",
        "PD_merton\n",
        "\n"
      ],
      "execution_count": 32,
      "outputs": [
        {
          "output_type": "stream",
          "text": [
            "[1] \"Ratio vol_k/vol_A\"\n"
          ],
          "name": "stdout"
        },
        {
          "output_type": "display_data",
          "data": {
            "text/plain": [
              "                WALMEX.MX.Close\n",
              "WALMEX.MX.Close 4.03426        "
            ],
            "text/latex": "A matrix: 1 × 1 of type dbl\n\\begin{tabular}{r|l}\n  & WALMEX.MX.Close\\\\\n\\hline\n\tWALMEX.MX.Close & 4.03426\\\\\n\\end{tabular}\n",
            "text/markdown": "\nA matrix: 1 × 1 of type dbl\n\n| <!--/--> | WALMEX.MX.Close |\n|---|---|\n| WALMEX.MX.Close | 4.03426 |\n\n",
            "text/html": [
              "<table>\n",
              "<caption>A matrix: 1 × 1 of type dbl</caption>\n",
              "<thead>\n",
              "\t<tr><th></th><th scope=col>WALMEX.MX.Close</th></tr>\n",
              "</thead>\n",
              "<tbody>\n",
              "\t<tr><th scope=row>WALMEX.MX.Close</th><td>4.03426</td></tr>\n",
              "</tbody>\n",
              "</table>\n"
            ]
          },
          "metadata": {
            "tags": []
          }
        },
        {
          "output_type": "stream",
          "text": [
            "[1] \"valor Vk bajo solución\"\n"
          ],
          "name": "stdout"
        },
        {
          "output_type": "display_data",
          "data": {
            "text/plain": [
              "           WALMEX.MX.Close\n",
              "2018-12-31   -9.825218e-11"
            ]
          },
          "metadata": {
            "tags": []
          }
        },
        {
          "output_type": "stream",
          "text": [
            "[1] \"Deuda estimada\"\n"
          ],
          "name": "stdout"
        },
        {
          "output_type": "display_data",
          "data": {
            "text/plain": [
              "[1] 141614.8"
            ],
            "text/latex": "141614.759",
            "text/markdown": "141614.759",
            "text/html": [
              "141614.759"
            ]
          },
          "metadata": {
            "tags": []
          }
        },
        {
          "output_type": "stream",
          "text": [
            "[1] \"Deuda sencilla\"\n"
          ],
          "name": "stdout"
        },
        {
          "output_type": "display_data",
          "data": {
            "text/plain": [
              "[1] 141614.8"
            ],
            "text/latex": "141614.759",
            "text/markdown": "141614.759",
            "text/html": [
              "141614.759"
            ]
          },
          "metadata": {
            "tags": []
          }
        },
        {
          "output_type": "stream",
          "text": [
            "[1] \"Vol estimada\"\n"
          ],
          "name": "stdout"
        },
        {
          "output_type": "display_data",
          "data": {
            "text/plain": [
              "[1] 0.9645693"
            ],
            "text/latex": "0.96456933901006",
            "text/markdown": "0.96456933901006",
            "text/html": [
              "0.96456933901006"
            ]
          },
          "metadata": {
            "tags": []
          }
        },
        {
          "output_type": "stream",
          "text": [
            "[1] \"Vol semilla\"\n"
          ],
          "name": "stdout"
        },
        {
          "output_type": "display_data",
          "data": {
            "text/plain": [
              "                WALMEX.MX.Close\n",
              "WALMEX.MX.Close 0.2390945      "
            ],
            "text/latex": "A matrix: 1 × 1 of type dbl\n\\begin{tabular}{r|l}\n  & WALMEX.MX.Close\\\\\n\\hline\n\tWALMEX.MX.Close & 0.2390945\\\\\n\\end{tabular}\n",
            "text/markdown": "\nA matrix: 1 × 1 of type dbl\n\n| <!--/--> | WALMEX.MX.Close |\n|---|---|\n| WALMEX.MX.Close | 0.2390945 |\n\n",
            "text/html": [
              "<table>\n",
              "<caption>A matrix: 1 × 1 of type dbl</caption>\n",
              "<thead>\n",
              "\t<tr><th></th><th scope=col>WALMEX.MX.Close</th></tr>\n",
              "</thead>\n",
              "<tbody>\n",
              "\t<tr><th scope=row>WALMEX.MX.Close</th><td>0.2390945</td></tr>\n",
              "</tbody>\n",
              "</table>\n"
            ]
          },
          "metadata": {
            "tags": []
          }
        },
        {
          "output_type": "stream",
          "text": [
            "[1] \"PD Merton\"\n"
          ],
          "name": "stdout"
        },
        {
          "output_type": "display_data",
          "data": {
            "text/plain": [
              "[1] 0.2374506"
            ],
            "text/latex": "0.23745057523002",
            "text/markdown": "0.23745057523002",
            "text/html": [
              "0.23745057523002"
            ]
          },
          "metadata": {
            "tags": []
          }
        }
      ]
    },
    {
      "cell_type": "markdown",
      "metadata": {
        "id": "da5yHAtbkDLf",
        "colab_type": "text"
      },
      "source": [
        "#KMV"
      ]
    },
    {
      "cell_type": "code",
      "metadata": {
        "id": "9wGFNTQukETk",
        "colab_type": "code",
        "colab": {
          "base_uri": "https://localhost:8080/",
          "height": 535
        },
        "outputId": "4fd24f01-ba04-4ea9-c8fb-ac90294bbd3e"
      },
      "source": [
        "print(\"A_0:\")\n",
        "A_0\n",
        "print(\"Valor de K_0\")\n",
        "K_0\n",
        "print(\"Valor de vol_A\")\n",
        "vol_A\n",
        "print(\"Valor de Deuda Actual\")\n",
        "D_0\n",
        "print(\"Tasa libre de riesgo\")\n",
        "r\n",
        "print(\"Temporalidad\")\n",
        "T\n",
        "\n",
        "\n",
        "#Función para estimar vol_k y D\n",
        "Gkmv = function(x) \n",
        "{\n",
        "  vol_k <- x[2]\n",
        "  K_0 <- x[1]\n",
        "  c(A_0-K_0*pnorm((log(K_0/D)+(r+0.5*vol_k^2)*T)/(vol_k*sqrt(T)))+D*exp(-r*T)*pnorm((log(K_0/D)+(r-0.5*vol_k^2)*T)/(vol_k*sqrt(T))),\n",
        "    A_0*vol_A-vol_k*K_0*pnorm((log(K_0/D)+(r+0.5*vol_k^2)*T)/(vol_k*sqrt(T))) )\n",
        "}\n",
        "\n",
        "D=D_0\n",
        "\n",
        "x=c(K_0,vol_A)\n",
        "\n",
        "ss=multiroot(Gkmv,x,positive = TRUE) #RESOLVER EL SISTEMA.\n",
        "\n",
        "K_e=ss$root[1]\n",
        "vol_k=ss$root[2]\n",
        "print(\"Cociente K_0/D_0\")\n",
        "K_e/D_0\n",
        "print(\"Cociente vol_K/vol_A\")\n",
        "ss$root[2]/vol_A\n",
        "print(\"Valor de solución en función:\")\n",
        "Gkmv(c(K_e,vol_k))\n",
        "\n",
        "DI=(K_e-D)/(vol_k*K_0)\n",
        "print(\"DI\")\n",
        "DI\n",
        "EDF=pnorm(-DI)\n",
        "print(\"EDF Normal\")\n",
        "EDF\n",
        " \n"
      ],
      "execution_count": 34,
      "outputs": [
        {
          "output_type": "stream",
          "text": [
            "[1] \"A_0:\"\n"
          ],
          "name": "stdout"
        },
        {
          "output_type": "display_data",
          "data": {
            "text/plain": [
              "           WALMEX.MX.Close\n",
              "2018-12-31        872476.2"
            ]
          },
          "metadata": {
            "tags": []
          }
        },
        {
          "output_type": "stream",
          "text": [
            "[1] \"Valor de K_0\"\n"
          ],
          "name": "stdout"
        },
        {
          "output_type": "display_data",
          "data": {
            "text/plain": [
              "[1] 164914.1"
            ],
            "text/latex": "164914.074",
            "text/markdown": "164914.074",
            "text/html": [
              "164914.074"
            ]
          },
          "metadata": {
            "tags": []
          }
        },
        {
          "output_type": "stream",
          "text": [
            "[1] \"Valor de vol_A\"\n"
          ],
          "name": "stdout"
        },
        {
          "output_type": "display_data",
          "data": {
            "text/plain": [
              "                WALMEX.MX.Close\n",
              "WALMEX.MX.Close 0.2390945      "
            ],
            "text/latex": "A matrix: 1 × 1 of type dbl\n\\begin{tabular}{r|l}\n  & WALMEX.MX.Close\\\\\n\\hline\n\tWALMEX.MX.Close & 0.2390945\\\\\n\\end{tabular}\n",
            "text/markdown": "\nA matrix: 1 × 1 of type dbl\n\n| <!--/--> | WALMEX.MX.Close |\n|---|---|\n| WALMEX.MX.Close | 0.2390945 |\n\n",
            "text/html": [
              "<table>\n",
              "<caption>A matrix: 1 × 1 of type dbl</caption>\n",
              "<thead>\n",
              "\t<tr><th></th><th scope=col>WALMEX.MX.Close</th></tr>\n",
              "</thead>\n",
              "<tbody>\n",
              "\t<tr><th scope=row>WALMEX.MX.Close</th><td>0.2390945</td></tr>\n",
              "</tbody>\n",
              "</table>\n"
            ]
          },
          "metadata": {
            "tags": []
          }
        },
        {
          "output_type": "stream",
          "text": [
            "[1] \"Valor de Deuda Actual\"\n"
          ],
          "name": "stdout"
        },
        {
          "output_type": "display_data",
          "data": {
            "text/plain": [
              "[1] 141614.8"
            ],
            "text/latex": "141614.759",
            "text/markdown": "141614.759",
            "text/html": [
              "141614.759"
            ]
          },
          "metadata": {
            "tags": []
          }
        },
        {
          "output_type": "stream",
          "text": [
            "[1] \"Tasa libre de riesgo\"\n"
          ],
          "name": "stdout"
        },
        {
          "output_type": "display_data",
          "data": {
            "text/plain": [
              "[1] 0.0717"
            ],
            "text/latex": "0.0717",
            "text/markdown": "0.0717",
            "text/html": [
              "0.0717"
            ]
          },
          "metadata": {
            "tags": []
          }
        },
        {
          "output_type": "stream",
          "text": [
            "[1] \"Temporalidad\"\n"
          ],
          "name": "stdout"
        },
        {
          "output_type": "display_data",
          "data": {
            "text/plain": [
              "[1] 1"
            ],
            "text/latex": "1",
            "text/markdown": "1",
            "text/html": [
              "1"
            ]
          },
          "metadata": {
            "tags": []
          }
        },
        {
          "output_type": "stream",
          "text": [
            "[1] \"Cociente K_0/D_0\"\n"
          ],
          "name": "stdout"
        },
        {
          "output_type": "display_data",
          "data": {
            "text/plain": [
              "[1] 7.091723"
            ],
            "text/latex": "7.09172315164889",
            "text/markdown": "7.09172315164889",
            "text/html": [
              "7.09172315164889"
            ]
          },
          "metadata": {
            "tags": []
          }
        },
        {
          "output_type": "stream",
          "text": [
            "[1] \"Cociente vol_K/vol_A\"\n"
          ],
          "name": "stdout"
        },
        {
          "output_type": "display_data",
          "data": {
            "text/plain": [
              "                WALMEX.MX.Close\n",
              "WALMEX.MX.Close 0.868747       "
            ],
            "text/latex": "A matrix: 1 × 1 of type dbl\n\\begin{tabular}{r|l}\n  & WALMEX.MX.Close\\\\\n\\hline\n\tWALMEX.MX.Close & 0.868747\\\\\n\\end{tabular}\n",
            "text/markdown": "\nA matrix: 1 × 1 of type dbl\n\n| <!--/--> | WALMEX.MX.Close |\n|---|---|\n| WALMEX.MX.Close | 0.868747 |\n\n",
            "text/html": [
              "<table>\n",
              "<caption>A matrix: 1 × 1 of type dbl</caption>\n",
              "<thead>\n",
              "\t<tr><th></th><th scope=col>WALMEX.MX.Close</th></tr>\n",
              "</thead>\n",
              "<tbody>\n",
              "\t<tr><th scope=row>WALMEX.MX.Close</th><td>0.868747</td></tr>\n",
              "</tbody>\n",
              "</table>\n"
            ]
          },
          "metadata": {
            "tags": []
          }
        },
        {
          "output_type": "stream",
          "text": [
            "[1] \"Valor de solución en función:\"\n"
          ],
          "name": "stdout"
        },
        {
          "output_type": "display_data",
          "data": {
            "text/plain": [
              "           WALMEX.MX.Close\n",
              "2018-12-31    2.910383e-11\n",
              "2018-12-31    0.000000e+00"
            ]
          },
          "metadata": {
            "tags": []
          }
        },
        {
          "output_type": "stream",
          "text": [
            "[1] \"DI\"\n"
          ],
          "name": "stdout"
        },
        {
          "output_type": "display_data",
          "data": {
            "text/plain": [
              "[1] 25.18419"
            ],
            "text/latex": "25.1841948119206",
            "text/markdown": "25.1841948119206",
            "text/html": [
              "25.1841948119206"
            ]
          },
          "metadata": {
            "tags": []
          }
        },
        {
          "output_type": "stream",
          "text": [
            "[1] \"EDF Normal\"\n"
          ],
          "name": "stdout"
        },
        {
          "output_type": "display_data",
          "data": {
            "text/plain": [
              "[1] 2.984264e-140"
            ],
            "text/latex": "2.98426415358263e-140",
            "text/markdown": "2.98426415358263e-140",
            "text/html": [
              "2.98426415358263e-140"
            ]
          },
          "metadata": {
            "tags": []
          }
        }
      ]
    }
  ]
}