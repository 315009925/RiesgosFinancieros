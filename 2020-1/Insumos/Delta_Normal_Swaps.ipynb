{
  "nbformat": 4,
  "nbformat_minor": 0,
  "metadata": {
    "colab": {
      "name": "Delta Normal Swaps.ipynb",
      "provenance": [],
      "collapsed_sections": [],
      "include_colab_link": true
    },
    "kernelspec": {
      "name": "python3",
      "display_name": "Python 3"
    },
    "accelerator": "GPU"
  },
  "cells": [
    {
      "cell_type": "markdown",
      "metadata": {
        "id": "view-in-github",
        "colab_type": "text"
      },
      "source": [
        "<a href=\"https://colab.research.google.com/github/pikey-msc/RiesgosFinancieros/blob/master/2020-1/Insumos/Delta_Normal_Swaps.ipynb\" target=\"_parent\"><img src=\"https://colab.research.google.com/assets/colab-badge.svg\" alt=\"Open In Colab\"/></a>"
      ]
    },
    {
      "cell_type": "code",
      "metadata": {
        "id": "6SAjq-MmfGOa",
        "colab_type": "code",
        "outputId": "9fbba8bb-73d4-4246-e9a8-06d709ac0d39",
        "colab": {
          "base_uri": "https://localhost:8080/",
          "height": 118
        }
      },
      "source": [
        "%load_ext rpy2.ipython\n",
        "!rm -rf RiesgosFinancieros\n",
        "!git clone \"https://github.com/pikey-msc/RiesgosFinancieros/\""
      ],
      "execution_count": 1,
      "outputs": [
        {
          "output_type": "stream",
          "text": [
            "Cloning into 'RiesgosFinancieros'...\n",
            "remote: Enumerating objects: 96, done.\u001b[K\n",
            "remote: Counting objects: 100% (96/96), done.\u001b[K\n",
            "remote: Compressing objects: 100% (91/91), done.\u001b[K\n",
            "remote: Total 96 (delta 33), reused 0 (delta 0), pack-reused 0\u001b[K\n",
            "Unpacking objects: 100% (96/96), done.\n"
          ],
          "name": "stdout"
        }
      ]
    },
    {
      "cell_type": "code",
      "metadata": {
        "id": "dGPE3USPgxY8",
        "colab_type": "code",
        "outputId": "061f3cca-695f-4e52-9f65-dee4b6f142ce",
        "colab": {
          "base_uri": "https://localhost:8080/",
          "height": 1000
        }
      },
      "source": [
        "%%R\n",
        "library(dplyr)\n",
        "install.packages(\"data.table\")\n",
        "require(data.table)\n",
        "#FUNCIÓN DE INTERPOLACIÓN ALAMBRADA\n",
        "\n",
        "talamb=function(nodos,curva,plazos) #función de interpolación de tasas por el método alamabrada\n",
        "{\n",
        "  n=max(ncol(plazos),1)\n",
        "  m=max(ncol(nodos),1)\n",
        "  TC=matrix(0,1,n)\n",
        "  TL=matrix(0,1,n)\n",
        "  TF=matrix(0,1,n)\n",
        "  for (j in 1:n)\n",
        "  {\n",
        "    i=1\n",
        "    repeat\n",
        "    {\n",
        "      if(nodos[i]<= plazos[j] && plazos[j] <=nodos[i+1])\n",
        "      {\n",
        "        TC[j]=curva[i]\n",
        "        TL[j]=curva[i+1]\n",
        "        TF[j]=((((1+TL[j]*nodos[i+1]/360)/(1+TC[j]*nodos[i]/360))^((plazos[j]-nodos[i])/(nodos[i+1]-nodos[i]))*(1+TC[j]*nodos[i]/360))-1)*360/plazos[j]\n",
        "        break\n",
        "      }\n",
        "      else if (plazos[j]<nodos[1])\n",
        "      {\n",
        "        TC[j]=curva[1]\n",
        "        TL[j]=curva[1]\n",
        "        TF[j]=curva[1]\n",
        "        break\n",
        "      }\n",
        "      else if (plazos[j]>nodos[m])\n",
        "      {\n",
        "        TC[j]=curva[m]\n",
        "        TL[j]=curva[m]\n",
        "        TF[j]=curva[m]\n",
        "        break\n",
        "      }\n",
        "      else\n",
        "      {i=i+1}\n",
        "    }\n",
        "  }\n",
        "  as.matrix(t(as.numeric(rbind(TF))))\n",
        "}\n"
      ],
      "execution_count": 2,
      "outputs": [
        {
          "output_type": "stream",
          "text": [
            "/usr/local/lib/python3.6/dist-packages/rpy2/rinterface/__init__.py:146: RRuntimeWarning: \n",
            "Attaching package: ‘dplyr’\n",
            "\n",
            "\n",
            "  warnings.warn(x, RRuntimeWarning)\n",
            "/usr/local/lib/python3.6/dist-packages/rpy2/rinterface/__init__.py:146: RRuntimeWarning: The following objects are masked from ‘package:stats’:\n",
            "\n",
            "    filter, lag\n",
            "\n",
            "\n",
            "  warnings.warn(x, RRuntimeWarning)\n",
            "/usr/local/lib/python3.6/dist-packages/rpy2/rinterface/__init__.py:146: RRuntimeWarning: The following objects are masked from ‘package:base’:\n",
            "\n",
            "    intersect, setdiff, setequal, union\n",
            "\n",
            "\n",
            "  warnings.warn(x, RRuntimeWarning)\n",
            "/usr/local/lib/python3.6/dist-packages/rpy2/rinterface/__init__.py:146: RRuntimeWarning: Installing package into ‘/usr/local/lib/R/site-library’\n",
            "(as ‘lib’ is unspecified)\n",
            "\n",
            "  warnings.warn(x, RRuntimeWarning)\n",
            "/usr/local/lib/python3.6/dist-packages/rpy2/rinterface/__init__.py:146: RRuntimeWarning: trying URL 'https://cran.rstudio.com/src/contrib/data.table_1.12.2.tar.gz'\n",
            "\n",
            "  warnings.warn(x, RRuntimeWarning)\n",
            "/usr/local/lib/python3.6/dist-packages/rpy2/rinterface/__init__.py:146: RRuntimeWarning: Content type 'application/x-gzip'\n",
            "  warnings.warn(x, RRuntimeWarning)\n",
            "/usr/local/lib/python3.6/dist-packages/rpy2/rinterface/__init__.py:146: RRuntimeWarning:  length 3343698 bytes (3.2 MB)\n",
            "\n",
            "  warnings.warn(x, RRuntimeWarning)\n",
            "/usr/local/lib/python3.6/dist-packages/rpy2/rinterface/__init__.py:146: RRuntimeWarning: =\n",
            "  warnings.warn(x, RRuntimeWarning)\n",
            "/usr/local/lib/python3.6/dist-packages/rpy2/rinterface/__init__.py:146: RRuntimeWarning: \n",
            "\n",
            "  warnings.warn(x, RRuntimeWarning)\n",
            "/usr/local/lib/python3.6/dist-packages/rpy2/rinterface/__init__.py:146: RRuntimeWarning: downloaded 3.2 MB\n",
            "\n",
            "\n",
            "  warnings.warn(x, RRuntimeWarning)\n",
            "/usr/local/lib/python3.6/dist-packages/rpy2/rinterface/__init__.py:146: RRuntimeWarning: \n",
            "  warnings.warn(x, RRuntimeWarning)\n",
            "/usr/local/lib/python3.6/dist-packages/rpy2/rinterface/__init__.py:146: RRuntimeWarning: The downloaded source packages are in\n",
            "\t‘/tmp/RtmpwSbxYF/downloaded_packages’\n",
            "  warnings.warn(x, RRuntimeWarning)\n",
            "/usr/local/lib/python3.6/dist-packages/rpy2/rinterface/__init__.py:146: RRuntimeWarning: Loading required package: data.table\n",
            "\n",
            "  warnings.warn(x, RRuntimeWarning)\n",
            "/usr/local/lib/python3.6/dist-packages/rpy2/rinterface/__init__.py:146: RRuntimeWarning: data.table 1.12.2 using 1 threads (see ?getDTthreads).  Latest news: r-datatable.com\n",
            "\n",
            "  warnings.warn(x, RRuntimeWarning)\n",
            "/usr/local/lib/python3.6/dist-packages/rpy2/rinterface/__init__.py:146: RRuntimeWarning: \n",
            "Attaching package: ‘data.table’\n",
            "\n",
            "\n",
            "  warnings.warn(x, RRuntimeWarning)\n",
            "/usr/local/lib/python3.6/dist-packages/rpy2/rinterface/__init__.py:146: RRuntimeWarning: The following objects are masked from ‘package:dplyr’:\n",
            "\n",
            "    between, first, last\n",
            "\n",
            "\n",
            "  warnings.warn(x, RRuntimeWarning)\n"
          ],
          "name": "stderr"
        }
      ]
    },
    {
      "cell_type": "markdown",
      "metadata": {
        "id": "nNRpKccihBQf",
        "colab_type": "text"
      },
      "source": [
        "Conocido como IRS (interest rate swap), donde por un lado se paga tasa fija y por otro se paga tasa variable en los mismos t\\'erminos monetarios, utilizando dos curvas: una para traer a valor presente los flujos y otra para calcular el cup\\'on de la tasa variable.\n",
        "Primero estableceremos la f\\'ormula de valoraci\\'on de un contrato swap:\n",
        "$$\\textrm{IRS}=\\textrm{M}\\cdot  (-1)^z\\cdot\\sum_{i=1}^n{\\frac{(\\textrm{t}_{c_{p_{i}}}-\\textrm{t}_f)\\cdot p_{c_i}/360}{\\big(1+\\textrm{t}_{vp_{p_{i}}}\\cdot p_i/360\\big)}}$$\n",
        "\tDonde:\\ssj\n",
        "$\\textrm{IRS}$: Es el valor del swap de tasa de interes.\\\n",
        "$\\textrm{M}$: Es el valor a pagar del flujo.\\\n",
        "$\\textrm{z}$: Valor dummy ``0\" si paga tasa fija ``1\" si paga tasa variable.\\\n",
        "$\\textrm{t}_{c_{p_{i}}}$: Tasa cup\\'on variable a al plazo $p_i$.\\\n",
        "$\\textrm{t}_f$: Tasa fija.\\\n",
        "$p_{c_i}$: Plazo del $i$-\\'esimo cup\\'on (para este curso $p_{c_i}=p_{c_j}$ para todo $i,j=1,\\ldots,n$.)\\\n",
        "$\\textrm{t}_{vp_{p_{i}}}$: Tasa valor presente al plazo $p_i$. \\\n",
        "$p_i$: Plazo en dias del $i$-\\'esimo cup\\'on. \\\n",
        "$n$: N\\'umero de cupones a pagar. \\\n"
      ]
    },
    {
      "cell_type": "code",
      "metadata": {
        "id": "kynmbPWKfY4s",
        "colab_type": "code",
        "colab": {}
      },
      "source": [
        "%%R\n",
        "btasadesc=\"RiesgosFinancieros/2020-1/Insumos/tasa_TIIE_SW_OP.txt\"\n",
        "btasacupvar=\"RiesgosFinancieros/2020-1/Insumos/tasa_DIRS_SW_OP.txt\"\n",
        "tasafija=cbind(0.079,0.075) #se establece la tasa fija a pagar para cada swap\n",
        "plazos=cbind(588,360) #se establece el número de días que vivirá el swap\n",
        "plazocupon=cbind(28,28) #se establece el número de días que se pagará cada cupón\n",
        "contratos=cbind(-1600,100000) #se establece el número de contratos de cada swap\n",
        "nominal=cbind(1,1) #se establece el nominal de cada swap\n",
        "por=cbind(0,0) #se establece 0 si se paga tasa fija y 1 si se paga tasa variable\n",
        "itpl=1 #poner 0 si se quiere interpolación lineal o 1 si se quiere tasa alambrada\n"
      ],
      "execution_count": 0,
      "outputs": []
    },
    {
      "cell_type": "code",
      "metadata": {
        "id": "0O_QdKk3fp7T",
        "colab_type": "code",
        "colab": {}
      },
      "source": [
        "%%R\n",
        "#carga de datos\n",
        "#carga de tasas de descuento\n",
        "data1<-read.table(btasadesc)\n",
        "n1<-nrow(data1)\n",
        "m1_orig=ncol(data1)\n",
        "X1_orig=data.frame(data1[2:n1,2:m1_orig])\n",
        "nodos1=data.frame(data1[1,2:m1_orig])\n",
        "\n",
        "data2<-read.table(btasacupvar)\n",
        "n2<-nrow(data2)\n",
        "m2_orig=ncol(data2)\n",
        "X2_orig=data.frame(data2[2:n1,2:m2_orig])\n",
        "nodos2=data.frame(data2[1,2:m2_orig])\n"
      ],
      "execution_count": 0,
      "outputs": []
    },
    {
      "cell_type": "code",
      "metadata": {
        "id": "yRoYgSKBf15S",
        "colab_type": "code",
        "colab": {}
      },
      "source": [
        "%%R      \n",
        "\n",
        "nodosvp=nodos1\n",
        "nodostc=nodos2\n",
        "curvavp=as.matrix(X1_orig/100)\n",
        "curvatc=X2_orig/100\n",
        "n1=nrow(curvavp)\n",
        "n2=nrow(curvatc)\n",
        "n=max(n1,n2)\n",
        "\n",
        "m=max(ncol(plazos),1) #número de contratos swap a valorar\n",
        "N=matrix(0,1,m) #es un vector de m valores donde se cargarán los m número de cupones a pagar para cada contrato\n",
        "for (j in (1:m))\n",
        "{\n",
        "  N[j]=as.integer(plazos[j]/plazocupon[j])+1 #número de cupones a pagar\n",
        "}\n",
        "VTplazos=matrix(0,1,sum(N)) #vector de todos los plazos de todos los contratos\n",
        "contratosT=matrix(0,1,sum(N)) #vector de todos los contratos de todos los flujos de todos los contratos\n",
        "nominalT=matrix(0,1,sum(N)) #vector de todos los nominales de todos los flujos de todos los contratos\n",
        "porT=matrix(0,1,sum(N)) #vector de todos los dummy si paga o recibe de todos los flujos de todos los contratos\n",
        "plazocuponT=matrix(0,1,sum(N)) #vector de todos los plazoscupon de todos los flujos de todos los contratos\n",
        "tasafijaT=matrix(0,1,sum(N)) #vector de tasas fijas de todos los flujos de todos los contratos\n",
        "VTplazosc=matrix(0,1,sum(N)) #vector de todos los plazos cortos de todos los contratos\n",
        "\n",
        "\n",
        "plazini=plazos-plazocupon*(N-1) #vector de plazos iniciales\n",
        "\n",
        "for (j in (1:m))\n",
        "{\n",
        "  if (j==1)\n",
        "  {\n",
        "    VTplazos[,1:sum(N[1:j])]=seq(plazini[j],plazos[j], by=plazocupon[j])\n",
        "    VTplazosc[,1:sum(N[1:j])]=c(0,VTplazos[,1:(sum(N[1:j])-1)])\n",
        "    contratosT[,1:sum(N[1:j])]=seq(contratos[j],contratos[j])\n",
        "    nominalT[,1:sum(N[1:j])]=seq(nominal[j],nominal[j])\n",
        "    porT[,1:sum(N[1:j])]=seq(por[j],por[j])\n",
        "    plazocuponT[,1:sum(N[1:j])]=seq(plazocupon[j],plazocupon[j])\n",
        "    tasafijaT[,1:sum(N[1:j])]=seq(tasafija[j],tasafija[j])\n",
        "  }\n",
        "  else\n",
        "  {\n",
        "    VTplazos[,(sum(N[1:j-1])+1):sum(N[1:j])]=seq(plazini[j],plazos[j], by=plazocupon[j])\n",
        "    VTplazosc[,(sum(N[1:j-1])+1):sum(N[1:j])]=c(0,VTplazos[,(sum(N[1:j-1])+1):(sum(N[1:j])-1)])\n",
        "    contratosT[,(sum(N[1:j-1])+1):sum(N[1:j])]=seq(contratos[j],contratos[j])\t\t\t\t\t\n",
        "    nominalT[,(sum(N[1:j-1])+1):sum(N[1:j])]=seq(nominal[j],nominal[j])\n",
        "    porT[,(sum(N[1:j-1])+1):sum(N[1:j])]=seq(por[j],por[j])\n",
        "    plazocuponT[,(sum(N[1:j-1])+1):sum(N[1:j])]=seq(plazocupon[j],plazocupon[j])\n",
        "    tasafijaT[,(sum(N[1:j-1])+1):sum(N[1:j])]=seq(tasafija[j],tasafija[j])\n",
        "  }\n",
        "}\n",
        "\n",
        "\n",
        "Xvp=matrix(0,n,ncol(VTplazos))\n",
        "Xtc=matrix(0,n,ncol(VTplazos))\n",
        "Xtcc=matrix(0,n,ncol(VTplazos))\n",
        "XtfwdT=matrix(0,n,ncol(VTplazos))\n",
        "\n",
        "#Interpolación\n",
        "\n",
        "for (i in (1:n))\n",
        "{\n",
        "  Xvp[i,]=if(itpl==0){approx(nodosvp,curvavp[i,],VTplazos)$y}else{talamb(nodosvp,curvavp[i,],VTplazos)}\n",
        "  Xtc[i,]=if(itpl==0){approx(nodostc,curvatc[i,],VTplazos)$y}else{talamb(nodostc,curvatc[i,],VTplazos)}\n",
        "  Xtcc[i,]=if(itpl==0){approx(nodostc,curvatc[i,],VTplazosc)$y}else{talamb(nodostc,curvatc[i,],VTplazosc)}\n",
        "  \n",
        "  XtfwdT[i,]=((1+Xtc[i,]*VTplazos/360)/(1+Xtcc[i,]*VTplazosc/360)-1)*360/plazocuponT \n",
        "  for (j in (1:ncol(VTplazos)))\n",
        "  {\n",
        "    if (VTplazos[j]<= plazocuponT[j])\n",
        "    {\n",
        "      XtfwdT[i,j]=Xtc[i,j]\n",
        "    }\n",
        "    else\n",
        "    {\n",
        "      j=sum(N[1:j])\n",
        "    }\n",
        "  }\n",
        "}"
      ],
      "execution_count": 0,
      "outputs": []
    },
    {
      "cell_type": "markdown",
      "metadata": {
        "id": "VB6TTh1YhRl-",
        "colab_type": "text"
      },
      "source": [
        "Primero estableceremos la f\\'ormula de valoraci\\'on de un contrato swap:\n",
        "$$\\textrm{IRS}=\\textrm{M}\\cdot  (-1)^z\\cdot\\sum_{i=1}^n{\\frac{(\\textrm{t}_{c_{p_{i}}}-\\textrm{t}_f)\\cdot p_{c_i}/360}{\\big(1+\\textrm{t}_{vp_{p_{i}}}\\cdot p_i/360\\big)}}$$\n",
        "\tDonde:\\ssj\n",
        "$\\textrm{IRS}$: Es el valor del swap de tasa de interes.\\\n",
        "$\\textrm{M}$: Es el valor a pagar del flujo.\\\n",
        "$\\textrm{z}$: Valor dummy ``0\" si paga tasa fija ``1\" si paga tasa variable.\\\n",
        "$\\textrm{t}_{c_{p_{i}}}$: Tasa cup\\'on variable a al plazo $p_i$.\\\n",
        "$\\textrm{t}_f$: Tasa fija.\\\n",
        "$p_{c_i}$: Plazo del $i$-\\'esimo cup\\'on (para este curso $p_{c_i}=p_{c_j}$ para todo $i,j=1,\\ldots,n$.)\\\n",
        "$\\textrm{t}_{vp_{p_{i}}}$: Tasa valor presente al plazo $p_i$. \\\n",
        "$p_i$: Plazo en dias del $i$-\\'esimo cup\\'on. \\\n",
        "$n$: N\\'umero de cupones a pagar. \\"
      ]
    },
    {
      "cell_type": "code",
      "metadata": {
        "id": "21h364lEgA3j",
        "colab_type": "code",
        "outputId": "fb101d02-f491-42eb-9d49-c89d7d29a6a2",
        "colab": {
          "base_uri": "https://localhost:8080/",
          "height": 50
        }
      },
      "source": [
        "%%R                \n",
        "\n",
        "swap=function(porT, contratosT, nominalT, XtfwdT, tasafijaT, plazocuponT, VTplazos, Xvp, N)\n",
        "{\n",
        "  V0=matrix(0,1,ncol(N))\n",
        "  V0f=(((contratosT*(XtfwdT-tasafijaT)*(plazocuponT/360)))/(1+Xvp*VTplazos/360))*nominalT*(-1)^porT\n",
        "  for (j in (1:ncol(N)))\n",
        "  {\n",
        "    if(j==1)\n",
        "    {\n",
        "      V0[j]=sum(V0f[j:N[j]])\n",
        "    }\n",
        "    else\n",
        "    {\n",
        "      V0[j]=sum(V0f[(sum(N[1:j-1])+1):(sum(N[1:j]))])\n",
        "    }\n",
        "  }\n",
        "  V0\n",
        "}\n",
        "\n",
        "V0=swap(porT, contratosT, nominalT, XtfwdT[1,], tasafijaT, plazocuponT, VTplazos, Xvp[1,], N)\n",
        "V0"
      ],
      "execution_count": 7,
      "outputs": [
        {
          "output_type": "display_data",
          "data": {
            "text/plain": [
              "         [,1]     [,2]\n",
              "[1,] 6.143429 442.5273\n"
            ]
          },
          "metadata": {
            "tags": []
          }
        }
      ]
    },
    {
      "cell_type": "markdown",
      "metadata": {
        "id": "pnR_CCM7ZIem",
        "colab_type": "text"
      },
      "source": [
        "Delta Normal"
      ]
    },
    {
      "cell_type": "code",
      "metadata": {
        "id": "E0eu3ewhS6ul",
        "colab_type": "code",
        "colab": {}
      },
      "source": [
        "%%R     \n",
        "DeltaXvp=Xvp[1:(n-1),]/Xvp[2:n,]-1\n",
        "DeltaXtfwdt=XtfwdT[1:(n-1),]/XtfwdT[2:n,]-1\n",
        "\n",
        "DeltaX=cbind(DeltaXtfwdt,DeltaXvp)\n",
        "\n",
        "VarCovX=cov(DeltaX)*((n-1)/(n-2))  #Matriz de Varianza-Covarianza\n"
      ],
      "execution_count": 0,
      "outputs": []
    },
    {
      "cell_type": "code",
      "metadata": {
        "id": "tt5-jBazZRib",
        "colab_type": "code",
        "colab": {
          "base_uri": "https://localhost:8080/",
          "height": 84
        },
        "outputId": "96bdda9f-2a3a-4c2b-8b0d-c38d2f6fa369"
      },
      "source": [
        "%%R\n",
        "#derivada del swap con respecto aL tiempo\n",
        "dswap_dtt=function(porT, contratosT, nominalT, XtfwdT, tasafijaT, plazocuponT, VTplazos, Xvp)\n",
        "{\n",
        "-1*(((contratosT*(XtfwdT-tasafijaT)*(plazocuponT*Xvp/360^2)))/(1+Xvp*VTplazos/360)^(2))*nominalT*(-1)^porT\n",
        "}\n",
        "\n",
        "#derivada del swap con respecto a la tasa cupón variable\n",
        "dswap_dtc=function(porT, contratosT, nominalT, XtfwdT, tasafijaT, plazocuponT, VTplazos, Xvp)\n",
        "{\n",
        "  (((contratosT*plazocuponT)/360)/(1+Xvp*VTplazos/360))*nominalT*(-1)^porT\n",
        "}\n",
        "\n",
        "#derivada del swap con respecto al valor presente\n",
        "dswap_dvp=function(porT, contratosT, nominalT, XtfwdT, tasafijaT, plazocuponT, VTplazos, Xvp)\n",
        "{\n",
        "-1*(((contratosT*(XtfwdT-tasafijaT)*(plazocuponT*VTplazos/360^2)))/(1+Xvp*VTplazos/360)^(2))*nominalT*(-1)^porT\n",
        "}\n",
        "\n",
        "diagv=function(x)\t\t\t#función para diagonalizar un vector\n",
        "{\n",
        "n01=nrow(as.matrix(x))\n",
        "m01=ncol(as.matrix(x))\n",
        "dimmax=max(n01,m01)\n",
        "\t\tres=matrix(0,dimmax,dimmax)\n",
        "\t\tfor (i in 1:dimmax)\n",
        "\t\t{\n",
        "\t\tres[i,i]=x[i]\n",
        "\t\t}\n",
        "\tres\n",
        "}\n",
        "\n",
        "diagv(c(1,2,3))"
      ],
      "execution_count": 12,
      "outputs": [
        {
          "output_type": "display_data",
          "data": {
            "text/plain": [
              "     [,1] [,2] [,3]\n",
              "[1,]    1    0    0\n",
              "[2,]    0    2    0\n",
              "[3,]    0    0    3\n"
            ]
          },
          "metadata": {
            "tags": []
          }
        }
      ]
    },
    {
      "cell_type": "code",
      "metadata": {
        "id": "v6fZqJcLa-oX",
        "colab_type": "code",
        "colab": {}
      },
      "source": [
        "%%R\n",
        "#Evalución de las derivada en el punto x0\n",
        "\n",
        "g=cbind(dswap_dtc(porT, contratosT, nominalT, XtfwdT[1,], tasafijaT,  plazocuponT, VTplazos, Xvp[1,]),dswap_dvp(porT, contratosT, nominalT, XtfwdT[1,], tasafijaT,  plazocuponT, VTplazos, Xvp[1,]))\n",
        "\n",
        "#Multiplicación de la derivada por el punto x0\n",
        "gt=c( XtfwdT[1,],Xvp[1,])*g"
      ],
      "execution_count": 0,
      "outputs": []
    }
  ]
}